{
 "cells": [
  {
   "cell_type": "code",
   "execution_count": null,
   "metadata": {},
   "outputs": [],
   "source": [
    "import os\n",
    "import json\n",
    "import pandas as pd\n",
    "\n",
    "from PIL import Image\n",
    "from IPython.core.display import HTML"
   ]
  },
  {
   "cell_type": "code",
   "execution_count": null,
   "metadata": {},
   "outputs": [],
   "source": [
    "# MS-COCO directory (must be a relative path)\n",
    "ms_coco_dir = 'ms-coco'\n",
    "\n",
    "# File containing generated captions\n",
    "predictions_file = 'demo/demo-predictions.json'"
   ]
  },
  {
   "cell_type": "code",
   "execution_count": null,
   "metadata": {},
   "outputs": [],
   "source": [
    "def image_path(coco_dir, image_id):\n",
    "    return os.path.join(coco_dir, 'images', 'val2014', f'COCO_val2014_{image_id:012d}.jpg')\n",
    "\n",
    "\n",
    "def image_size(image_path):\n",
    "    with Image.open(image_path) as img:\n",
    "        return img.size\n",
    "\n",
    "\n",
    "def image_html(image_path, scale):\n",
    "    width, height = image_size(image_path)\n",
    "    return f'<img src=\"{image_path}\" width=\"{width * scale}\" height=\"{height * scale}\"/>'\n",
    "\n",
    "\n",
    "def result_html(coco_dir,\n",
    "                image_ids,\n",
    "                image_captions,\n",
    "                image_scale=0.3):\n",
    "\n",
    "    image_paths = [image_path(coco_dir, image_id) for image_id in image_ids]\n",
    "\n",
    "    df = pd.DataFrame(dict({'ImageID': image_ids,\n",
    "                            'Image': image_paths,\n",
    "                            'Caption': image_captions}))\n",
    "\n",
    "    return df.to_html(index=False,\n",
    "                      escape=False,\n",
    "                      formatters=[None, lambda path: image_html(path, image_scale), None])"
   ]
  },
  {
   "cell_type": "code",
   "execution_count": null,
   "metadata": {
    "scrolled": false
   },
   "outputs": [],
   "source": [
    "image_ids = []\n",
    "image_captions = []\n",
    "\n",
    "with open(predictions_file) as f:\n",
    "    preds = json.load(f)\n",
    "    \n",
    "    for pred in preds:\n",
    "        image_ids.append(pred['image_id'])\n",
    "        image_captions.append(pred['caption'])    \n",
    "    \n",
    "html = result_html(ms_coco_dir, image_ids, image_captions)\n",
    "HTML(html)"
   ]
  }
 ],
 "metadata": {
  "kernelspec": {
   "display_name": "Python 3",
   "language": "python",
   "name": "python3"
  },
  "language_info": {
   "codemirror_mode": {
    "name": "ipython",
    "version": 3
   },
   "file_extension": ".py",
   "mimetype": "text/x-python",
   "name": "python",
   "nbconvert_exporter": "python",
   "pygments_lexer": "ipython3",
   "version": "3.6.7"
  }
 },
 "nbformat": 4,
 "nbformat_minor": 2
}
